{
 "cells": [
  {
   "cell_type": "code",
   "execution_count": 411,
   "metadata": {
    "collapsed": false
   },
   "outputs": [
    {
     "name": "stderr",
     "output_type": "stream",
     "text": [
      "/home/linuxbrew/.linuxbrew/Cellar/python/2.7.12_1/lib/python2.7/site-packages/matplotlib/__init__.py:1357: UserWarning:  This call to matplotlib.use() has no effect\n",
      "because the backend has already been chosen;\n",
      "matplotlib.use() must be called *before* pylab, matplotlib.pyplot,\n",
      "or matplotlib.backends is imported for the first time.\n",
      "\n",
      "  warnings.warn(_use_error_msg)\n"
     ]
    }
   ],
   "source": [
    "import pandas as pd\n",
    "import numpy as np\n",
    "import matplotlib as mpl\n",
    "mpl.use('Agg')\n",
    "import matplotlib.pyplot as plt\n",
    "%matplotlib inline\n",
    "import seaborn as sns"
   ]
  },
  {
   "cell_type": "code",
   "execution_count": 412,
   "metadata": {
    "collapsed": true
   },
   "outputs": [],
   "source": [
    "bootEMPath=\"/mnt/scratch7/avi/test/shoal-paper/salmonData/test/emBoot/aux_info/\"\n",
    "gibbsEMPath=\"/mnt/scratch7/avi/test/shoal-paper/salmonData/test/emGibbs/aux_info/\"\n",
    "bootVBEMPath=\"/mnt/scratch7/avi/test/shoal-paper/salmonData/test/vbBoot/aux_info/\"\n",
    "gibbsVBEMPath=\"/mnt/scratch7/avi/test/shoal-paper/salmonData/test/vbGibbs/aux_info/\""
   ]
  },
  {
   "cell_type": "code",
   "execution_count": 413,
   "metadata": {
    "collapsed": true
   },
   "outputs": [],
   "source": [
    "bootEMFiles=[bootEMPath+str(x)+'.sf' for x in range(1,101)]\n",
    "gibbsEMFiles=[gibbsEMPath+str(x)+'.sf' for x in range(1,101)]\n",
    "bootVBEMFiles=[bootVBEMPath+str(x)+'.sf' for x in range(1,101)]\n",
    "gibbsVBEMFiles=[gibbsVBEMPath+str(x)+'.sf' for x in range(1,101)]\n",
    "eqFile=\"/mnt/scratch7/avi/test/shoal-paper/salmonData/test/emGibbs/aux_info/eq_classes.txt\""
   ]
  },
  {
   "cell_type": "code",
   "execution_count": 414,
   "metadata": {
    "collapsed": false
   },
   "outputs": [],
   "source": [
    "def readFiles(paths):\n",
    "    for index, path in enumerate(paths):\n",
    "        with open(path) as f:\n",
    "            if index == 0:\n",
    "                tpm = pd.read_table(f, header=0).set_index(\"Name\").rename(columns={'TPM': '0'}).drop(['Length','EffectiveLength','NumReads'], 1)\n",
    "            else:\n",
    "                tpm[index] = pd.read_table(f, header=0).set_index(\"Name\").drop(['Length','EffectiveLength','NumReads'], 1)\n",
    "    return tpm\n",
    "def readTruth(tfile):\n",
    "    with open(tfile) as f:\n",
    "        tpm = pd.read_table(f, header=0).set_index(\"Name\")['TPM']\n",
    "    return tpm\n",
    "def dist_is_between(dist, truth):\n",
    "    dist = sorted(dist)\n",
    "    is_bet = []\n",
    "    for skip in range(1, 25):\n",
    "        if dist[skip] <= truth and truth <=dist[-(skip+1)]:\n",
    "            is_bet.append(True)\n",
    "        else:\n",
    "            is_bet.append(False)\n",
    "    return is_bet\n",
    "def get_bet(var):\n",
    "    bet = []\n",
    "    for txp in var.index:\n",
    "        dist = var.loc[txp]\n",
    "        truth = truthData[txp]\n",
    "        bet.append(dist_is_between(dist, truth))\n",
    "    return bet\n",
    "def get_series(df):\n",
    "    series = []\n",
    "    for txp in df.index:\n",
    "        dist = sorted(df.loc[txp])\n",
    "        cv=[]\n",
    "        for skip in range(1, 25):\n",
    "            ndist = np.array(dist[skip:-skip])\n",
    "            cv.append(ndist.std()/ndist.mean())\n",
    "        series.append(cv)\n",
    "    return series\n",
    "def readEqClass(eqfile):\n",
    "    eqClasses = {}    \n",
    "    tnames = []\n",
    "\n",
    "    with open(eqfile) as ifile:\n",
    "        numTran = int(ifile.readline().rstrip())\n",
    "        numEq = int(ifile.readline().rstrip())\n",
    "        for i in xrange(numTran):\n",
    "            tnames.append(ifile.readline().rstrip())\n",
    "\n",
    "        for i in xrange(numEq):\n",
    "            toks = map(int, ifile.readline().rstrip().split('\\t'))\n",
    "            nt = toks[0]\n",
    "            tids = tuple(toks[1:-1])\n",
    "            count = toks[-1]\n",
    "            if tids in eqClasses:\n",
    "                eqClasses[tids] += count\n",
    "            else:\n",
    "                eqClasses[tids] = count\n",
    "    return eqClasses,tnames"
   ]
  },
  {
   "cell_type": "code",
   "execution_count": 415,
   "metadata": {
    "collapsed": false
   },
   "outputs": [],
   "source": [
    "bootEMData = readFiles(bootEMFiles)\n",
    "gibbsEMData = readFiles(gibbsEMFiles)\n",
    "bootVBEMData = readFiles(bootVBEMFiles)\n",
    "gibbsVBEMData = readFiles(gibbsVBEMFiles)"
   ]
  },
  {
   "cell_type": "code",
   "execution_count": 432,
   "metadata": {
    "collapsed": true
   },
   "outputs": [],
   "source": [
    "tr = 'ENST00000472311.6|ENSG00000112695.11|OTTHUMG00000015049.8|OTTHUMT00000041246.2|COX7A2-006|COX7A2|325|UTR5:1-51|CDS:52-282|UTR3:283-325|'"
   ]
  },
  {
   "cell_type": "code",
   "execution_count": 448,
   "metadata": {
    "collapsed": false
   },
   "outputs": [],
   "source": [
    "b = bootEMData\n",
    "g = gibbsEMData\n",
    "# b = bootVBEMData\n",
    "# g = gibbsVBEMData\n",
    "eq,tn = readEqClass(eqFile)\n",
    "\n",
    "setUniTxps = set([])\n",
    "setMMTxps = set([])\n",
    "for txps in eq:\n",
    "    if len(txps) == 1:\n",
    "        setUniTxps.add(tn[txps[0]])\n",
    "    else:\n",
    "        for txp in txps:\n",
    "            setMMTxps.add(tn[txp])\n",
    "\n",
    "setBothTxps = setUniTxps & setMMTxps\n",
    "setUniTxps = setUniTxps - setBothTxps\n",
    "setMMTxps = setMMTxps - setBothTxps\n",
    "setAlltxps = setBothTxps|setUniTxps|setMMTxps\n",
    "setNoMapTxps = [x not in setAlltxps for x in tn]"
   ]
  },
  {
   "cell_type": "code",
   "execution_count": 417,
   "metadata": {
    "collapsed": false
   },
   "outputs": [
    {
     "data": {
      "text/plain": [
       "94359"
      ]
     },
     "execution_count": 417,
     "metadata": {},
     "output_type": "execute_result"
    }
   ],
   "source": [
    "len(setMMTxps)+len(setUniTxps)+len(setBothTxps)+sum(setNoMapTxps)"
   ]
  },
  {
   "cell_type": "code",
   "execution_count": 360,
   "metadata": {
    "collapsed": true
   },
   "outputs": [],
   "source": [
    "#No mapping for txps"
   ]
  },
  {
   "cell_type": "code",
   "execution_count": 361,
   "metadata": {
    "collapsed": true
   },
   "outputs": [],
   "source": [
    "boolList = setNoMapTxps"
   ]
  },
  {
   "cell_type": "code",
   "execution_count": 362,
   "metadata": {
    "collapsed": false
   },
   "outputs": [
    {
     "data": {
      "text/plain": [
       "7870"
      ]
     },
     "execution_count": 362,
     "metadata": {},
     "output_type": "execute_result"
    }
   ],
   "source": [
    "sum(boolList)"
   ]
  },
  {
   "cell_type": "code",
   "execution_count": 363,
   "metadata": {
    "collapsed": false
   },
   "outputs": [],
   "source": [
    "sb = b[boolList]\n",
    "sg = g[boolList]"
   ]
  },
  {
   "cell_type": "code",
   "execution_count": 364,
   "metadata": {
    "collapsed": false
   },
   "outputs": [
    {
     "data": {
      "text/plain": [
       "<matplotlib.legend.Legend at 0x7f3a542abb50>"
      ]
     },
     "execution_count": 364,
     "metadata": {},
     "output_type": "execute_result"
    },
    {
     "data": {
      "image/png": "[encoded data removed]",
      "text/plain": [
       "<matplotlib.figure.Figure at 0x7f3a535a2c10>"
      ]
     },
     "metadata": {},
     "output_type": "display_data"
    }
   ],
   "source": [
    "x = np.log10(sb.median(1).values+0.1)\n",
    "y = np.log10(sg.median(1).values+0.1)\n",
    "data = np.vstack([x, y]).T\n",
    "\n",
    "plt.hist(data, alpha=0.7, label=['boot', 'gibbs'])\n",
    "plt.legend(loc='upper right')"
   ]
  },
  {
   "cell_type": "code",
   "execution_count": 365,
   "metadata": {
    "collapsed": false
   },
   "outputs": [
    {
     "data": {
      "text/plain": [
       "[<matplotlib.lines.Line2D at 0x7f3a4ffbe610>]"
      ]
     },
     "execution_count": 365,
     "metadata": {},
     "output_type": "execute_result"
    },
    {
     "data": {
      "image/png": "[encoded data removed]",
      "text/plain": [
       "<matplotlib.figure.Figure at 0x7f3a54b50550>"
      ]
     },
     "metadata": {},
     "output_type": "display_data"
    }
   ],
   "source": [
    "plt.plot(x,y, 'bo', alpha=.1)"
   ]
  },
  {
   "cell_type": "markdown",
   "metadata": {
    "collapsed": false
   },
   "source": [
    "#UNIQUE ONLY"
   ]
  },
  {
   "cell_type": "code",
   "execution_count": 366,
   "metadata": {
    "collapsed": false
   },
   "outputs": [
    {
     "name": "stdout",
     "output_type": "stream",
     "text": [
      "2741\n"
     ]
    }
   ],
   "source": [
    "boolList = [x in setUniTxps for x in tn] \n",
    "print sum(boolList)"
   ]
  },
  {
   "cell_type": "code",
   "execution_count": 367,
   "metadata": {
    "collapsed": false
   },
   "outputs": [],
   "source": [
    "sb = b[boolList]\n",
    "sg = g[boolList]"
   ]
  },
  {
   "cell_type": "code",
   "execution_count": 368,
   "metadata": {
    "collapsed": false
   },
   "outputs": [
    {
     "data": {
      "text/plain": [
       "<matplotlib.legend.Legend at 0x7f3a54c83110>"
      ]
     },
     "execution_count": 368,
     "metadata": {},
     "output_type": "execute_result"
    },
    {
     "data": {
      "image/png": "[encoded data removed]",
      "text/plain": [
       "<matplotlib.figure.Figure at 0x7f3a535a2090>"
      ]
     },
     "metadata": {},
     "output_type": "display_data"
    }
   ],
   "source": [
    "x = np.log10(sb.median(1).values+0.1)\n",
    "y = np.log10(sg.median(1).values+0.1)\n",
    "data = np.vstack([x, y]).T\n",
    "\n",
    "plt.hist(data, alpha=0.7, label=['boot', 'gibbs'])\n",
    "plt.legend(loc='upper right')"
   ]
  },
  {
   "cell_type": "code",
   "execution_count": 369,
   "metadata": {
    "collapsed": false
   },
   "outputs": [
    {
     "data": {
      "text/plain": [
       "[<matplotlib.lines.Line2D at 0x7f3a53c45990>]"
      ]
     },
     "execution_count": 369,
     "metadata": {},
     "output_type": "execute_result"
    },
    {
     "data": {
      "image/png": "[encoded data removed]",
      "text/plain": [
       "<matplotlib.figure.Figure at 0x7f3a4ff6b790>"
      ]
     },
     "metadata": {},
     "output_type": "display_data"
    }
   ],
   "source": [
    "plt.plot(x,y, 'bo')"
   ]
  },
  {
   "cell_type": "code",
   "execution_count": 370,
   "metadata": {
    "collapsed": false
   },
   "outputs": [
    {
     "data": {
      "text/plain": [
       "[<matplotlib.lines.Line2D at 0x7f3a503aa910>]"
      ]
     },
     "execution_count": 370,
     "metadata": {},
     "output_type": "execute_result"
    },
    {
     "data": {
      "image/png": "[encoded data removed]",
      "text/plain": [
       "<matplotlib.figure.Figure at 0x7f3a524cf390>"
      ]
     },
     "metadata": {},
     "output_type": "display_data"
    }
   ],
   "source": [
    "plt.plot(sb.median(1),sg.median(1), 'bo', alpha=1)"
   ]
  },
  {
   "cell_type": "code",
   "execution_count": 371,
   "metadata": {
    "collapsed": false
   },
   "outputs": [],
   "source": [
    "diff = sb.median(1) - sg.median(1)"
   ]
  },
  {
   "cell_type": "code",
   "execution_count": 372,
   "metadata": {
    "collapsed": false,
    "scrolled": true
   },
   "outputs": [
    {
     "data": {
      "text/html": [
       "<div>\n",
       "<table border=\"1\" class=\"dataframe\">\n",
       "  <thead>\n",
       "    <tr style=\"text-align: right;\">\n",
       "      <th></th>\n",
       "      <th>0</th>\n",
       "      <th>1</th>\n",
       "      <th>2</th>\n",
       "      <th>3</th>\n",
       "      <th>4</th>\n",
       "      <th>5</th>\n",
       "      <th>6</th>\n",
       "      <th>7</th>\n",
       "      <th>8</th>\n",
       "      <th>9</th>\n",
       "      <th>...</th>\n",
       "      <th>90</th>\n",
       "      <th>91</th>\n",
       "      <th>92</th>\n",
       "      <th>93</th>\n",
       "      <th>94</th>\n",
       "      <th>95</th>\n",
       "      <th>96</th>\n",
       "      <th>97</th>\n",
       "      <th>98</th>\n",
       "      <th>99</th>\n",
       "    </tr>\n",
       "    <tr>\n",
       "      <th>Name</th>\n",
       "      <th></th>\n",
       "      <th></th>\n",
       "      <th></th>\n",
       "      <th></th>\n",
       "      <th></th>\n",
       "      <th></th>\n",
       "      <th></th>\n",
       "      <th></th>\n",
       "      <th></th>\n",
       "      <th></th>\n",
       "      <th></th>\n",
       "      <th></th>\n",
       "      <th></th>\n",
       "      <th></th>\n",
       "      <th></th>\n",
       "      <th></th>\n",
       "      <th></th>\n",
       "      <th></th>\n",
       "      <th></th>\n",
       "      <th></th>\n",
       "      <th></th>\n",
       "    </tr>\n",
       "  </thead>\n",
       "  <tbody>\n",
       "    <tr>\n",
       "      <th>ENST00000233143.5|ENSG00000034510.5|OTTHUMG00000130027.6|OTTHUMT00000252302.3|TMSB10-001|TMSB10|496|UTR5:1-109|CDS:110-244|UTR3:245-496|</th>\n",
       "      <td>1516.071142</td>\n",
       "      <td>1464.971580</td>\n",
       "      <td>1534.044092</td>\n",
       "      <td>1477.658368</td>\n",
       "      <td>1493.869264</td>\n",
       "      <td>1522.062125</td>\n",
       "      <td>1483.296940</td>\n",
       "      <td>1456.866132</td>\n",
       "      <td>1459.685419</td>\n",
       "      <td>1511.137391</td>\n",
       "      <td>...</td>\n",
       "      <td>1502.679533</td>\n",
       "      <td>1529.110341</td>\n",
       "      <td>1496.688550</td>\n",
       "      <td>1516.775964</td>\n",
       "      <td>1507.965694</td>\n",
       "      <td>1466.733634</td>\n",
       "      <td>1495.631317</td>\n",
       "      <td>1536.863378</td>\n",
       "      <td>1504.089176</td>\n",
       "      <td>1464.266759</td>\n",
       "    </tr>\n",
       "    <tr>\n",
       "      <th>ENST00000390237.2|ENSG00000211592.8|OTTHUMG00000151684.1|OTTHUMT00000323482.1|IGKC-001|IGKC|523|CDS:1-323|UTR3:324-523|</th>\n",
       "      <td>3475.186503</td>\n",
       "      <td>3446.721656</td>\n",
       "      <td>3398.455177</td>\n",
       "      <td>3432.179832</td>\n",
       "      <td>3457.241273</td>\n",
       "      <td>3483.849717</td>\n",
       "      <td>3452.600266</td>\n",
       "      <td>3485.087319</td>\n",
       "      <td>3443.008850</td>\n",
       "      <td>3462.191681</td>\n",
       "      <td>...</td>\n",
       "      <td>3437.749041</td>\n",
       "      <td>3455.384870</td>\n",
       "      <td>3492.203531</td>\n",
       "      <td>3503.651350</td>\n",
       "      <td>3442.080648</td>\n",
       "      <td>3439.296044</td>\n",
       "      <td>3483.849717</td>\n",
       "      <td>3439.605444</td>\n",
       "      <td>3470.236095</td>\n",
       "      <td>3451.981465</td>\n",
       "    </tr>\n",
       "    <tr>\n",
       "      <th>ENST00000230050.3|ENSG00000112306.7|OTTHUMG00000015593.3|OTTHUMT00000042270.2|RPS12-001|RPS12|631|UTR5:1-210|CDS:211-609|UTR3:610-631|</th>\n",
       "      <td>2677.864542</td>\n",
       "      <td>2626.523042</td>\n",
       "      <td>2609.894216</td>\n",
       "      <td>2680.358866</td>\n",
       "      <td>2602.619105</td>\n",
       "      <td>2583.703816</td>\n",
       "      <td>2649.179817</td>\n",
       "      <td>2593.888971</td>\n",
       "      <td>2615.714305</td>\n",
       "      <td>2637.331779</td>\n",
       "      <td>...</td>\n",
       "      <td>2618.624350</td>\n",
       "      <td>2633.590293</td>\n",
       "      <td>2625.691601</td>\n",
       "      <td>2616.130026</td>\n",
       "      <td>2630.472388</td>\n",
       "      <td>2624.860160</td>\n",
       "      <td>2646.893354</td>\n",
       "      <td>2617.585048</td>\n",
       "      <td>2640.449684</td>\n",
       "      <td>2662.898599</td>\n",
       "    </tr>\n",
       "    <tr>\n",
       "      <th>ENST00000331825.10|ENSG00000087086.14|OTTHUMG00000183332.1|OTTHUMT00000466233.1|FTL-001|FTL|878|UTR5:1-207|CDS:208-735|UTR3:736-878|</th>\n",
       "      <td>3063.881555</td>\n",
       "      <td>3082.034902</td>\n",
       "      <td>3054.152310</td>\n",
       "      <td>3068.983476</td>\n",
       "      <td>3076.102436</td>\n",
       "      <td>3046.558753</td>\n",
       "      <td>3087.967368</td>\n",
       "      <td>3071.712411</td>\n",
       "      <td>3052.847168</td>\n",
       "      <td>3048.813091</td>\n",
       "      <td>...</td>\n",
       "      <td>3081.204357</td>\n",
       "      <td>3079.187318</td>\n",
       "      <td>3072.068359</td>\n",
       "      <td>3049.169039</td>\n",
       "      <td>3089.272511</td>\n",
       "      <td>3051.186077</td>\n",
       "      <td>3065.898594</td>\n",
       "      <td>3053.203116</td>\n",
       "      <td>3053.796362</td>\n",
       "      <td>3052.135272</td>\n",
       "    </tr>\n",
       "    <tr>\n",
       "      <th>ENST00000338380.2|ENSG00000124107.5|OTTHUMG00000033075.3|OTTHUMT00000080494.3|SLPI-001|SLPI|596|UTR5:1-21|CDS:22-420|UTR3:421-596|</th>\n",
       "      <td>2285.943122</td>\n",
       "      <td>2270.591856</td>\n",
       "      <td>2246.867171</td>\n",
       "      <td>2333.392491</td>\n",
       "      <td>2288.269071</td>\n",
       "      <td>2259.427298</td>\n",
       "      <td>2244.076032</td>\n",
       "      <td>2274.313375</td>\n",
       "      <td>2290.595021</td>\n",
       "      <td>2299.898819</td>\n",
       "      <td>...</td>\n",
       "      <td>2279.197869</td>\n",
       "      <td>2282.221603</td>\n",
       "      <td>2231.748500</td>\n",
       "      <td>2301.061793</td>\n",
       "      <td>2263.148817</td>\n",
       "      <td>2276.174134</td>\n",
       "      <td>2306.644072</td>\n",
       "      <td>2328.973187</td>\n",
       "      <td>2275.011160</td>\n",
       "      <td>2313.156731</td>\n",
       "    </tr>\n",
       "    <tr>\n",
       "      <th>ENST00000361567.2|ENSG00000198786.2|-|-|MT-ND5-201|MT-ND5|1812|CDS:1-1812|</th>\n",
       "      <td>2499.266207</td>\n",
       "      <td>2498.228680</td>\n",
       "      <td>2498.048241</td>\n",
       "      <td>2502.423896</td>\n",
       "      <td>2509.776802</td>\n",
       "      <td>2507.295760</td>\n",
       "      <td>2504.138071</td>\n",
       "      <td>2489.251820</td>\n",
       "      <td>2507.115321</td>\n",
       "      <td>2502.243457</td>\n",
       "      <td>...</td>\n",
       "      <td>2511.536086</td>\n",
       "      <td>2508.784385</td>\n",
       "      <td>2528.632720</td>\n",
       "      <td>2514.423117</td>\n",
       "      <td>2532.106178</td>\n",
       "      <td>2504.047851</td>\n",
       "      <td>2516.949268</td>\n",
       "      <td>2498.905328</td>\n",
       "      <td>2493.041047</td>\n",
       "      <td>2489.793138</td>\n",
       "    </tr>\n",
       "  </tbody>\n",
       "</table>\n",
       "<p>6 rows × 100 columns</p>\n",
       "</div>"
      ],
      "text/plain": [
       "                                                              0            1  \\\n",
       "Name                                                                           \n",
       "ENST00000233143.5|ENSG00000034510.5|OTTHUMG0000...  1516.071142  1464.971580   \n",
       "ENST00000390237.2|ENSG00000211592.8|OTTHUMG0000...  3475.186503  3446.721656   \n",
       "ENST00000230050.3|ENSG00000112306.7|OTTHUMG0000...  2677.864542  2626.523042   \n",
       "ENST00000331825.10|ENSG00000087086.14|OTTHUMG00...  3063.881555  3082.034902   \n",
       "ENST00000338380.2|ENSG00000124107.5|OTTHUMG0000...  2285.943122  2270.591856   \n",
       "ENST00000361567.2|ENSG00000198786.2|-|-|MT-ND5-...  2499.266207  2498.228680   \n",
       "\n",
       "                                                              2            3  \\\n",
       "Name                                                                           \n",
       "ENST00000233143.5|ENSG00000034510.5|OTTHUMG0000...  1534.044092  1477.658368   \n",
       "ENST00000390237.2|ENSG00000211592.8|OTTHUMG0000...  3398.455177  3432.179832   \n",
       "ENST00000230050.3|ENSG00000112306.7|OTTHUMG0000...  2609.894216  2680.358866   \n",
       "ENST00000331825.10|ENSG00000087086.14|OTTHUMG00...  3054.152310  3068.983476   \n",
       "ENST00000338380.2|ENSG00000124107.5|OTTHUMG0000...  2246.867171  2333.392491   \n",
       "ENST00000361567.2|ENSG00000198786.2|-|-|MT-ND5-...  2498.048241  2502.423896   \n",
       "\n",
       "                                                              4            5  \\\n",
       "Name                                                                           \n",
       "ENST00000233143.5|ENSG00000034510.5|OTTHUMG0000...  1493.869264  1522.062125   \n",
       "ENST00000390237.2|ENSG00000211592.8|OTTHUMG0000...  3457.241273  3483.849717   \n",
       "ENST00000230050.3|ENSG00000112306.7|OTTHUMG0000...  2602.619105  2583.703816   \n",
       "ENST00000331825.10|ENSG00000087086.14|OTTHUMG00...  3076.102436  3046.558753   \n",
       "ENST00000338380.2|ENSG00000124107.5|OTTHUMG0000...  2288.269071  2259.427298   \n",
       "ENST00000361567.2|ENSG00000198786.2|-|-|MT-ND5-...  2509.776802  2507.295760   \n",
       "\n",
       "                                                              6            7  \\\n",
       "Name                                                                           \n",
       "ENST00000233143.5|ENSG00000034510.5|OTTHUMG0000...  1483.296940  1456.866132   \n",
       "ENST00000390237.2|ENSG00000211592.8|OTTHUMG0000...  3452.600266  3485.087319   \n",
       "ENST00000230050.3|ENSG00000112306.7|OTTHUMG0000...  2649.179817  2593.888971   \n",
       "ENST00000331825.10|ENSG00000087086.14|OTTHUMG00...  3087.967368  3071.712411   \n",
       "ENST00000338380.2|ENSG00000124107.5|OTTHUMG0000...  2244.076032  2274.313375   \n",
       "ENST00000361567.2|ENSG00000198786.2|-|-|MT-ND5-...  2504.138071  2489.251820   \n",
       "\n",
       "                                                              8            9  \\\n",
       "Name                                                                           \n",
       "ENST00000233143.5|ENSG00000034510.5|OTTHUMG0000...  1459.685419  1511.137391   \n",
       "ENST00000390237.2|ENSG00000211592.8|OTTHUMG0000...  3443.008850  3462.191681   \n",
       "ENST00000230050.3|ENSG00000112306.7|OTTHUMG0000...  2615.714305  2637.331779   \n",
       "ENST00000331825.10|ENSG00000087086.14|OTTHUMG00...  3052.847168  3048.813091   \n",
       "ENST00000338380.2|ENSG00000124107.5|OTTHUMG0000...  2290.595021  2299.898819   \n",
       "ENST00000361567.2|ENSG00000198786.2|-|-|MT-ND5-...  2507.115321  2502.243457   \n",
       "\n",
       "                                                       ...                90  \\\n",
       "Name                                                   ...                     \n",
       "ENST00000233143.5|ENSG00000034510.5|OTTHUMG0000...     ...       1502.679533   \n",
       "ENST00000390237.2|ENSG00000211592.8|OTTHUMG0000...     ...       3437.749041   \n",
       "ENST00000230050.3|ENSG00000112306.7|OTTHUMG0000...     ...       2618.624350   \n",
       "ENST00000331825.10|ENSG00000087086.14|OTTHUMG00...     ...       3081.204357   \n",
       "ENST00000338380.2|ENSG00000124107.5|OTTHUMG0000...     ...       2279.197869   \n",
       "ENST00000361567.2|ENSG00000198786.2|-|-|MT-ND5-...     ...       2511.536086   \n",
       "\n",
       "                                                             91           92  \\\n",
       "Name                                                                           \n",
       "ENST00000233143.5|ENSG00000034510.5|OTTHUMG0000...  1529.110341  1496.688550   \n",
       "ENST00000390237.2|ENSG00000211592.8|OTTHUMG0000...  3455.384870  3492.203531   \n",
       "ENST00000230050.3|ENSG00000112306.7|OTTHUMG0000...  2633.590293  2625.691601   \n",
       "ENST00000331825.10|ENSG00000087086.14|OTTHUMG00...  3079.187318  3072.068359   \n",
       "ENST00000338380.2|ENSG00000124107.5|OTTHUMG0000...  2282.221603  2231.748500   \n",
       "ENST00000361567.2|ENSG00000198786.2|-|-|MT-ND5-...  2508.784385  2528.632720   \n",
       "\n",
       "                                                             93           94  \\\n",
       "Name                                                                           \n",
       "ENST00000233143.5|ENSG00000034510.5|OTTHUMG0000...  1516.775964  1507.965694   \n",
       "ENST00000390237.2|ENSG00000211592.8|OTTHUMG0000...  3503.651350  3442.080648   \n",
       "ENST00000230050.3|ENSG00000112306.7|OTTHUMG0000...  2616.130026  2630.472388   \n",
       "ENST00000331825.10|ENSG00000087086.14|OTTHUMG00...  3049.169039  3089.272511   \n",
       "ENST00000338380.2|ENSG00000124107.5|OTTHUMG0000...  2301.061793  2263.148817   \n",
       "ENST00000361567.2|ENSG00000198786.2|-|-|MT-ND5-...  2514.423117  2532.106178   \n",
       "\n",
       "                                                             95           96  \\\n",
       "Name                                                                           \n",
       "ENST00000233143.5|ENSG00000034510.5|OTTHUMG0000...  1466.733634  1495.631317   \n",
       "ENST00000390237.2|ENSG00000211592.8|OTTHUMG0000...  3439.296044  3483.849717   \n",
       "ENST00000230050.3|ENSG00000112306.7|OTTHUMG0000...  2624.860160  2646.893354   \n",
       "ENST00000331825.10|ENSG00000087086.14|OTTHUMG00...  3051.186077  3065.898594   \n",
       "ENST00000338380.2|ENSG00000124107.5|OTTHUMG0000...  2276.174134  2306.644072   \n",
       "ENST00000361567.2|ENSG00000198786.2|-|-|MT-ND5-...  2504.047851  2516.949268   \n",
       "\n",
       "                                                             97           98  \\\n",
       "Name                                                                           \n",
       "ENST00000233143.5|ENSG00000034510.5|OTTHUMG0000...  1536.863378  1504.089176   \n",
       "ENST00000390237.2|ENSG00000211592.8|OTTHUMG0000...  3439.605444  3470.236095   \n",
       "ENST00000230050.3|ENSG00000112306.7|OTTHUMG0000...  2617.585048  2640.449684   \n",
       "ENST00000331825.10|ENSG00000087086.14|OTTHUMG00...  3053.203116  3053.796362   \n",
       "ENST00000338380.2|ENSG00000124107.5|OTTHUMG0000...  2328.973187  2275.011160   \n",
       "ENST00000361567.2|ENSG00000198786.2|-|-|MT-ND5-...  2498.905328  2493.041047   \n",
       "\n",
       "                                                             99  \n",
       "Name                                                             \n",
       "ENST00000233143.5|ENSG00000034510.5|OTTHUMG0000...  1464.266759  \n",
       "ENST00000390237.2|ENSG00000211592.8|OTTHUMG0000...  3451.981465  \n",
       "ENST00000230050.3|ENSG00000112306.7|OTTHUMG0000...  2662.898599  \n",
       "ENST00000331825.10|ENSG00000087086.14|OTTHUMG00...  3052.135272  \n",
       "ENST00000338380.2|ENSG00000124107.5|OTTHUMG0000...  2313.156731  \n",
       "ENST00000361567.2|ENSG00000198786.2|-|-|MT-ND5-...  2489.793138  \n",
       "\n",
       "[6 rows x 100 columns]"
      ]
     },
     "execution_count": 372,
     "metadata": {},
     "output_type": "execute_result"
    }
   ],
   "source": [
    "sb[(diff>10) & (sg.median(1)<4000)]"
   ]
  },
  {
   "cell_type": "markdown",
   "metadata": {},
   "source": [
    "#MULTI-Mapping ONLY"
   ]
  },
  {
   "cell_type": "code",
   "execution_count": 449,
   "metadata": {
    "collapsed": false
   },
   "outputs": [],
   "source": [
    "boolList = [x in setMMTxps for x in tn]"
   ]
  },
  {
   "cell_type": "code",
   "execution_count": 450,
   "metadata": {
    "collapsed": false
   },
   "outputs": [],
   "source": [
    "sb = b[boolList]\n",
    "sg = g[boolList]"
   ]
  },
  {
   "cell_type": "code",
   "execution_count": 451,
   "metadata": {
    "collapsed": false
   },
   "outputs": [
    {
     "data": {
      "text/plain": [
       "<matplotlib.legend.Legend at 0x7f3a4fdaf410>"
      ]
     },
     "execution_count": 451,
     "metadata": {},
     "output_type": "execute_result"
    },
    {
     "data": {
      "image/png": "[encoded data removed]",
      "text/plain": [
       "<matplotlib.figure.Figure at 0x7f3a506de450>"
      ]
     },
     "metadata": {},
     "output_type": "display_data"
    }
   ],
   "source": [
    "x = np.log10(sb.median(1).values+0.1)\n",
    "y = np.log10(sg.median(1).values+0.1)\n",
    "data = np.vstack([x, y]).T\n",
    "\n",
    "plt.hist(data, alpha=0.7, label=['boot', 'gibbs'])\n",
    "plt.legend(loc='upper right')"
   ]
  },
  {
   "cell_type": "code",
   "execution_count": 452,
   "metadata": {
    "collapsed": false
   },
   "outputs": [
    {
     "data": {
      "text/plain": [
       "[<matplotlib.lines.Line2D at 0x7f3a51a89290>]"
      ]
     },
     "execution_count": 452,
     "metadata": {},
     "output_type": "execute_result"
    },
    {
     "data": {
      "image/png": "[encoded data removed]",
      "text/plain": [
       "<matplotlib.figure.Figure at 0x7f3a4fdcd950>"
      ]
     },
     "metadata": {},
     "output_type": "display_data"
    }
   ],
   "source": [
    "plt.plot(x,y, 'bo')"
   ]
  },
  {
   "cell_type": "code",
   "execution_count": 453,
   "metadata": {
    "collapsed": false
   },
   "outputs": [
    {
     "data": {
      "text/plain": [
       "[<matplotlib.lines.Line2D at 0x7f3a56233810>]"
      ]
     },
     "execution_count": 453,
     "metadata": {},
     "output_type": "execute_result"
    },
    {
     "data": {
      "image/png": "[encoded data removed]",
      "text/plain": [
       "<matplotlib.figure.Figure at 0x7f3a52381bd0>"
      ]
     },
     "metadata": {},
     "output_type": "display_data"
    }
   ],
   "source": [
    "plt.plot(sb.median(1),sg.median(1), 'bo', alpha=1)"
   ]
  },
  {
   "cell_type": "code",
   "execution_count": 454,
   "metadata": {
    "collapsed": true
   },
   "outputs": [],
   "source": [
    "diff = sb.median(1) - sg.median(1)"
   ]
  },
  {
   "cell_type": "code",
   "execution_count": 512,
   "metadata": {
    "collapsed": false
   },
   "outputs": [
    {
     "data": {
      "text/plain": [
       "[25873, 29846, 36338, 37228, 82064]"
      ]
     },
     "execution_count": 512,
     "metadata": {},
     "output_type": "execute_result"
    }
   ],
   "source": [
    "[tn.index(i) for i in sg[diff<-80].index]"
   ]
  },
  {
   "cell_type": "code",
   "execution_count": 511,
   "metadata": {
    "collapsed": false
   },
   "outputs": [
    {
     "data": {
      "text/plain": [
       "Index([u'ENST00000507593.5|ENSG00000113141.16|OTTHUMG00000163374.4|OTTHUMT00000372905.2|IK-009|IK|489|UTR5:1-67|CDS:68-489|',\n",
       "       u'ENST00000472311.6|ENSG00000112695.11|OTTHUMG00000015049.8|OTTHUMT00000041246.2|COX7A2-006|COX7A2|325|UTR5:1-51|CDS:52-282|UTR3:283-325|',\n",
       "       u'ENST00000635769.1|ENSG00000104763.18|OTTHUMG00000096997.18|OTTHUMT00000490015.1|ASAH1-015|ASAH1|575|UTR5:1-21|CDS:22-575|',\n",
       "       u'ENST00000518495.5|ENSG00000078668.13|OTTHUMG00000164168.3|OTTHUMT00000377572.1|VDAC3-009|VDAC3|531|UTR5:1-69|CDS:70-243|UTR3:244-531|',\n",
       "       u'ENST00000604804.5|ENSG00000089356.17|OTTHUMG00000184625.2|OTTHUMT00000468992.1|FXYD3-009|FXYD3|564|UTR5:1-55|CDS:56-406|UTR3:407-564|'],\n",
       "      dtype='object', name=u'Name')"
      ]
     },
     "execution_count": 511,
     "metadata": {},
     "output_type": "execute_result"
    }
   ],
   "source": [
    "sg[diff<-80].index"
   ]
  },
  {
   "cell_type": "code",
   "execution_count": 513,
   "metadata": {
    "collapsed": false
   },
   "outputs": [
    {
     "name": "stdout",
     "output_type": "stream",
     "text": [
      "    boots       gibbs\n",
      "0     0.0   88.129199\n",
      "1     0.0   87.275212\n",
      "2     0.0   78.526696\n",
      "3     0.0   76.164192\n",
      "4     0.0   43.240669\n",
      "5     0.0   82.300816\n",
      "6     0.0   86.166514\n",
      "7     0.0   80.148787\n",
      "8     0.0   81.074843\n",
      "9     0.0   84.112263\n",
      "10    0.0   85.001752\n",
      "11    0.0    0.000521\n",
      "12    0.0   82.063188\n",
      "13    0.0  106.684875\n",
      "14    0.0   78.878405\n",
      "15    0.0   92.727985\n",
      "16    0.0   10.930015\n",
      "17    0.0   83.935470\n",
      "18    0.0   75.947924\n",
      "19    0.0   82.666430\n",
      "20    0.0   89.310956\n",
      "21    0.0   84.771240\n",
      "22    0.0   87.723012\n",
      "23    0.0   58.034057\n",
      "24    0.0   98.951214\n",
      "25    0.0   32.212697\n",
      "26    0.0   54.018164\n",
      "27    0.0   91.864658\n",
      "28    0.0   78.521426\n",
      "29    0.0   81.143843\n",
      "..    ...         ...\n",
      "70    0.0   81.372180\n",
      "71    0.0   84.221003\n",
      "72    0.0  109.079742\n",
      "73    0.0   98.378724\n",
      "74    0.0   97.660007\n",
      "75    0.0   70.664282\n",
      "76    0.0   87.747338\n",
      "77    0.0   90.328556\n",
      "78    0.0  126.208209\n",
      "79    0.0   79.436045\n",
      "80    0.0   76.454860\n",
      "81    0.0  101.663176\n",
      "82    0.0   98.752594\n",
      "83    0.0   78.518777\n",
      "84    0.0   72.971765\n",
      "85    0.0   91.190176\n",
      "86    0.0   86.862977\n",
      "87    0.0   73.805050\n",
      "88    0.0   39.968451\n",
      "89    0.0   92.104894\n",
      "90    0.0   85.369631\n",
      "91    0.0   77.933663\n",
      "92    0.0  114.910320\n",
      "93    0.0   81.680527\n",
      "94    0.0   66.976401\n",
      "95    0.0   76.858245\n",
      "96    0.0   86.568884\n",
      "97    0.0   80.407094\n",
      "98    0.0  107.718449\n",
      "99    0.0   81.039413\n",
      "\n",
      "[100 rows x 2 columns]\n"
     ]
    }
   ],
   "source": [
    "tr = 25873\n",
    "print pd.concat([sb.loc[tn[tr]].rename('boots'), sg.loc[tn[tr]].rename('gibbs')], axis=1)"
   ]
  },
  {
   "cell_type": "code",
   "execution_count": null,
   "metadata": {
    "collapsed": false
   },
   "outputs": [],
   "source": []
  },
  {
   "cell_type": "code",
   "execution_count": null,
   "metadata": {
    "collapsed": false
   },
   "outputs": [],
   "source": []
  },
  {
   "cell_type": "code",
   "execution_count": null,
   "metadata": {
    "collapsed": false
   },
   "outputs": [],
   "source": []
  },
  {
   "cell_type": "markdown",
   "metadata": {},
   "source": [
    "#ALLL"
   ]
  },
  {
   "cell_type": "code",
   "execution_count": 514,
   "metadata": {
    "collapsed": false
   },
   "outputs": [
    {
     "name": "stdout",
     "output_type": "stream",
     "text": [
      "42345\n"
     ]
    }
   ],
   "source": [
    "boolList = [x in setBothTxps for x in tn] \n",
    "print sum(boolList)"
   ]
  },
  {
   "cell_type": "code",
   "execution_count": 515,
   "metadata": {
    "collapsed": true
   },
   "outputs": [],
   "source": [
    "sb = b[boolList]\n",
    "sg = g[boolList]"
   ]
  },
  {
   "cell_type": "code",
   "execution_count": 516,
   "metadata": {
    "collapsed": false
   },
   "outputs": [
    {
     "data": {
      "text/plain": [
       "<matplotlib.legend.Legend at 0x7f3a5624c890>"
      ]
     },
     "execution_count": 516,
     "metadata": {},
     "output_type": "execute_result"
    },
    {
     "data": {
      "image/png": "[encoded data removed]",
      "text/plain": [
       "<matplotlib.figure.Figure at 0x7f3a54d26890>"
      ]
     },
     "metadata": {},
     "output_type": "display_data"
    }
   ],
   "source": [
    "x = np.log10(sb.median(1).values+0.1)\n",
    "y = np.log10(sg.median(1).values+0.1)\n",
    "data = np.vstack([x, y]).T\n",
    "\n",
    "plt.hist(data, alpha=0.7, label=['boot', 'gibbs'])\n",
    "plt.legend(loc='upper right')"
   ]
  },
  {
   "cell_type": "code",
   "execution_count": 517,
   "metadata": {
    "collapsed": false
   },
   "outputs": [
    {
     "data": {
      "text/plain": [
       "[<matplotlib.lines.Line2D at 0x7f3a53069f10>]"
      ]
     },
     "execution_count": 517,
     "metadata": {},
     "output_type": "execute_result"
    },
    {
     "data": {
      "image/png": "[encoded data removed]",
      "text/plain": [
       "<matplotlib.figure.Figure at 0x7f3a55922b10>"
      ]
     },
     "metadata": {},
     "output_type": "display_data"
    }
   ],
   "source": [
    "plt.plot(x,y, 'bo')"
   ]
  },
  {
   "cell_type": "code",
   "execution_count": 518,
   "metadata": {
    "collapsed": true
   },
   "outputs": [],
   "source": [
    "diff = sb.median(1) - sg.median(1)"
   ]
  },
  {
   "cell_type": "code",
   "execution_count": 536,
   "metadata": {
    "collapsed": false
   },
   "outputs": [
    {
     "data": {
      "text/plain": [
       "[36483]"
      ]
     },
     "execution_count": 536,
     "metadata": {},
     "output_type": "execute_result"
    }
   ],
   "source": [
    "[tn.index(i) for i in sg[diff<-1000].index]"
   ]
  },
  {
   "cell_type": "code",
   "execution_count": 538,
   "metadata": {
    "collapsed": false
   },
   "outputs": [
    {
     "name": "stdout",
     "output_type": "stream",
     "text": [
      "       boots       gibbs\n",
      "0   0.779317  731.465331\n",
      "1   0.771319  704.281256\n",
      "2   0.405236  727.423025\n",
      "3   0.391514  699.304509\n",
      "4   0.400349  750.264231\n",
      "5   0.796417  692.716693\n",
      "6   1.179746  729.437299\n",
      "7   1.210526  696.274437\n",
      "8   2.026921  721.811367\n",
      "9   0.000000  712.585279\n",
      "10  1.202106  730.663316\n",
      "11  2.441275  704.428886\n",
      "12  0.382313  732.210478\n",
      "13  1.543458  712.148211\n",
      "14  1.198630  729.621514\n",
      "15  0.394618  740.746221\n",
      "16  0.398861  724.949154\n",
      "17  0.791970  729.515415\n",
      "18  0.772402  723.449754\n",
      "19  0.396233  696.551376\n",
      "20  0.399731  721.543696\n",
      "21  0.797267  719.068946\n",
      "22  0.399577  727.889711\n",
      "23  0.776772  726.752105\n",
      "24  1.925466  715.661732\n",
      "25  0.786624  705.924468\n",
      "26  0.797172  715.851747\n",
      "27  0.391447  695.125679\n",
      "28  0.400941  712.194154\n",
      "29  0.790411  741.886503\n",
      "..       ...         ...\n",
      "70  1.529829  706.778426\n",
      "71  1.573099  731.498000\n",
      "72  0.390991  705.298345\n",
      "73  0.402997  716.007659\n",
      "74  1.979567  731.672700\n",
      "75  0.000000  698.603204\n",
      "76  0.000000  724.197670\n",
      "77  0.800988  730.266033\n",
      "78  1.168012  696.557813\n",
      "79  1.206423  707.465239\n",
      "80  0.389117  742.268468\n",
      "81  0.400188  671.668780\n",
      "82  0.387869  723.162556\n",
      "83  0.801301  702.596614\n",
      "84  1.137763  718.070912\n",
      "85  1.190011  667.157788\n",
      "86  0.797749  736.753781\n",
      "87  0.398011  715.871263\n",
      "88  0.384449  724.478571\n",
      "89  0.000000  733.314499\n",
      "90  0.000000  686.498349\n",
      "91  1.961686  707.528510\n",
      "92  0.396805  733.334902\n",
      "93  1.169629  706.722218\n",
      "94  0.388280  693.948444\n",
      "95  0.000000  696.250588\n",
      "96  0.791893  700.606546\n",
      "97  0.817310  696.902639\n",
      "98  0.396210  721.347989\n",
      "99  1.173766  691.761805\n",
      "\n",
      "[100 rows x 2 columns]\n"
     ]
    }
   ],
   "source": [
    "tr = 63819\n",
    "print pd.concat([sb.loc[tn[tr]].rename('boots'), sg.loc[tn[tr]].rename('gibbs')], axis=1)"
   ]
  },
  {
   "cell_type": "code",
   "execution_count": 532,
   "metadata": {
    "collapsed": false
   },
   "outputs": [
    {
     "data": {
      "text/plain": [
       "(array([ 10.,  35.,   0.,  29.,  14.,   0.,   6.,   1.,   4.,   1.]),\n",
       " array([ 0.        ,  0.24412752,  0.48825503,  0.73238255,  0.97651007,\n",
       "         1.22063759,  1.4647651 ,  1.70889262,  1.95302014,  2.19714766,\n",
       "         2.44127517]),\n",
       " <a list of 10 Patch objects>)"
      ]
     },
     "execution_count": 532,
     "metadata": {},
     "output_type": "execute_result"
    },
    {
     "data": {
      "image/png": "[encoded data removed]",
      "text/plain": [
       "<matplotlib.figure.Figure at 0x7f3a56aa3990>"
      ]
     },
     "metadata": {},
     "output_type": "display_data"
    }
   ],
   "source": [
    "plt.hist(sb.loc[tn[tr]].values)\n"
   ]
  },
  {
   "cell_type": "code",
   "execution_count": 529,
   "metadata": {
    "collapsed": false
   },
   "outputs": [
    {
     "data": {
      "text/plain": [
       "(array([  4.,   1.,   8.,  16.,  15.,  15.,  15.,  18.,   5.,   3.]),\n",
       " array([ 667.15778759,  675.46843197,  683.77907635,  692.08972073,\n",
       "         700.40036511,  708.71100949,  717.02165387,  725.33229825,\n",
       "         733.64294262,  741.953587  ,  750.26423138]),\n",
       " <a list of 10 Patch objects>)"
      ]
     },
     "execution_count": 529,
     "metadata": {},
     "output_type": "execute_result"
    },
    {
     "data": {
      "image/png": "[encoded data removed]",
      "text/plain": [
       "<matplotlib.figure.Figure at 0x7f3a455bf210>"
      ]
     },
     "metadata": {},
     "output_type": "display_data"
    }
   ],
   "source": [
    "plt.hist(sg.loc[tn[tr]].values)"
   ]
  },
  {
   "cell_type": "code",
   "execution_count": 530,
   "metadata": {
    "collapsed": false
   },
   "outputs": [
    {
     "data": {
      "text/plain": [
       "'ENST00000561022.5|ENSG00000182718.16|OTTHUMG00000132763.5|OTTHUMT00000416481.1|ANXA2-022|ANXA2|834|UTR5:1-55|CDS:56-265|UTR3:266-834|'"
      ]
     },
     "execution_count": 530,
     "metadata": {},
     "output_type": "execute_result"
    }
   ],
   "source": [
    "tn[tr]"
   ]
  },
  {
   "cell_type": "code",
   "execution_count": 535,
   "metadata": {
    "collapsed": false
   },
   "outputs": [
    {
     "data": {
      "text/plain": [
       "-1510.3683669499987"
      ]
     },
     "execution_count": 535,
     "metadata": {},
     "output_type": "execute_result"
    }
   ],
   "source": [
    "min(diff)"
   ]
  },
  {
   "cell_type": "code",
   "execution_count": null,
   "metadata": {
    "collapsed": true
   },
   "outputs": [],
   "source": []
  }
 ],
 "metadata": {
  "kernelspec": {
   "display_name": "Python 2",
   "language": "python",
   "name": "python2"
  },
  "language_info": {
   "codemirror_mode": {
    "name": "ipython",
    "version": 2
   },
   "file_extension": ".py",
   "mimetype": "text/x-python",
   "name": "python",
   "nbconvert_exporter": "python",
   "pygments_lexer": "ipython2",
   "version": "2.7.12"
  }
 },
 "nbformat": 4,
 "nbformat_minor": 1
}
