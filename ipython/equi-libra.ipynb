{
 "cells": [
  {
   "cell_type": "code",
   "execution_count": 83,
   "metadata": {
    "collapsed": false
   },
   "outputs": [],
   "source": [
    "import pandas as pd\n",
    "import numpy as np\n",
    "import matplotlib as mpl\n",
    "mpl.use('Agg')\n",
    "import matplotlib.pyplot as plt\n",
    "%matplotlib inline\n",
    "import seaborn as sns"
   ]
  },
  {
   "cell_type": "code",
   "execution_count": 84,
   "metadata": {
    "collapsed": true
   },
   "outputs": [],
   "source": [
    "bootEMPath=\"/mnt/scratch7/avi/equi-libra/salmonData/test/emBoot/aux_info/\"\n",
    "testEMPath=\"/mnt/scratch7/avi/equi-libra/salmonData/test/test/aux_info/\"\n",
    "gibbsEMPath=\"/mnt/scratch7/avi/equi-libra/salmonData/test/emGibbs/aux_info/\"\n",
    "bootVBEMPath=\"/mnt/scratch7/avi/equi-libra/salmonData/test/vbBoot/aux_info/\"\n",
    "gibbsVBEMPath=\"/mnt/scratch7/avi/equi-libra/salmonData/test/vbGibbs/aux_info/\""
   ]
  },
  {
   "cell_type": "code",
   "execution_count": 85,
   "metadata": {
    "collapsed": true
   },
   "outputs": [],
   "source": [
    "bootEMFiles=[bootEMPath+str(x)+'.sf' for x in range(1,101)]\n",
    "testEMFiles=[testEMPath+str(x)+'.sf' for x in range(1,101)]\n",
    "gibbsEMFiles=[gibbsEMPath+str(x)+'.sf' for x in range(1,101)]\n",
    "bootVBEMFiles=[bootVBEMPath+str(x)+'.sf' for x in range(1,101)]\n",
    "gibbsVBEMFiles=[gibbsVBEMPath+str(x)+'.sf' for x in range(1,101)]\n",
    "eqFile=\"/mnt/scratch7/avi/equi-libra/salmonData/test/emGibbs/aux_info/eq_classes.txt\""
   ]
  },
  {
   "cell_type": "code",
   "execution_count": 86,
   "metadata": {
    "collapsed": false
   },
   "outputs": [],
   "source": [
    "def readFiles(paths):\n",
    "    for index, path in enumerate(paths):\n",
    "        with open(path) as f:\n",
    "            if index == 0:\n",
    "                tpm = pd.read_table(f, header=0).set_index(\"Name\").rename(columns={'TPM': '0'}).drop(['Length','EffectiveLength','NumReads'], 1)\n",
    "            else:\n",
    "                tpm[index] = pd.read_table(f, header=0).set_index(\"Name\").drop(['Length','EffectiveLength','NumReads'], 1)\n",
    "    return tpm\n",
    "def readTruth(tfile):\n",
    "    with open(tfile) as f:\n",
    "        tpm = pd.read_table(f, header=0).set_index(\"Name\")['TPM']\n",
    "    return tpm\n",
    "def dist_is_between(dist, truth):\n",
    "    dist = sorted(dist)\n",
    "    is_bet = []\n",
    "    for skip in range(1, 25):\n",
    "        if dist[skip] <= truth and truth <=dist[-(skip+1)]:\n",
    "            is_bet.append(True)\n",
    "        else:\n",
    "            is_bet.append(False)\n",
    "    return is_bet\n",
    "def get_bet(var):\n",
    "    bet = []\n",
    "    for txp in var.index:\n",
    "        dist = var.loc[txp]\n",
    "        truth = truthData[txp]\n",
    "        bet.append(dist_is_between(dist, truth))\n",
    "    return bet\n",
    "def get_series(df):\n",
    "    series = []\n",
    "    for txp in df.index:\n",
    "        dist = sorted(df.loc[txp])\n",
    "        cv=[]\n",
    "        for skip in range(1, 25):\n",
    "            ndist = np.array(dist[skip:-skip])\n",
    "            cv.append(ndist.std()/ndist.mean())\n",
    "        series.append(cv)\n",
    "    return series\n",
    "def readEqClass(eqfile):\n",
    "    eqClasses = {}    \n",
    "    tnames = []\n",
    "\n",
    "    with open(eqfile) as ifile:\n",
    "        numTran = int(ifile.readline().rstrip())\n",
    "        numEq = int(ifile.readline().rstrip())\n",
    "        for i in xrange(numTran):\n",
    "            tnames.append(ifile.readline().rstrip())\n",
    "\n",
    "        for i in xrange(numEq):\n",
    "            toks = map(int, ifile.readline().rstrip().split('\\t'))\n",
    "            nt = toks[0]\n",
    "            tids = tuple(toks[1:-1])\n",
    "            count = toks[-1]\n",
    "            if tids in eqClasses:\n",
    "                eqClasses[tids] += count\n",
    "            else:\n",
    "                eqClasses[tids] = count\n",
    "    return eqClasses,tnames"
   ]
  },
  {
   "cell_type": "code",
   "execution_count": 87,
   "metadata": {
    "collapsed": false
   },
   "outputs": [],
   "source": [
    "bootEMData = readFiles(bootEMFiles)\n",
    "gibbsEMData = readFiles(gibbsEMFiles)\n",
    "testEMData = readFiles(testEMFiles)\n",
    "bootVBEMData = readFiles(bootVBEMFiles)\n",
    "gibbsVBEMData = readFiles(gibbsVBEMFiles)"
   ]
  },
  {
   "cell_type": "code",
   "execution_count": 88,
   "metadata": {
    "collapsed": false
   },
   "outputs": [],
   "source": [
    "b = bootEMData\n",
    "g = gibbsEMData\n",
    "t = testEMData\n",
    "# b = bootVBEMData\n",
    "# g = gibbsVBEMData\n",
    "eq,tn = readEqClass(eqFile)\n",
    "\n",
    "setUniTxps = set([])\n",
    "setMMTxps = set([])\n",
    "for txps in eq:\n",
    "    if len(txps) == 1:\n",
    "        setUniTxps.add(tn[txps[0]])\n",
    "    else:\n",
    "        for txp in txps:\n",
    "            setMMTxps.add(tn[txp])\n",
    "\n",
    "setBothTxps = setUniTxps & setMMTxps\n",
    "setUniTxps = setUniTxps - setBothTxps\n",
    "setMMTxps = setMMTxps - setBothTxps\n",
    "setAlltxps = setBothTxps|setUniTxps|setMMTxps\n",
    "setNoMapTxps = [x not in setAlltxps for x in tn]"
   ]
  },
  {
   "cell_type": "code",
   "execution_count": 89,
   "metadata": {
    "collapsed": false
   },
   "outputs": [
    {
     "data": {
      "text/plain": [
       "94359"
      ]
     },
     "execution_count": 89,
     "metadata": {},
     "output_type": "execute_result"
    }
   ],
   "source": [
    "len(setMMTxps)+len(setUniTxps)+len(setBothTxps)+sum(setNoMapTxps)"
   ]
  },
  {
   "cell_type": "code",
   "execution_count": null,
   "metadata": {
    "collapsed": true
   },
   "outputs": [],
   "source": []
  },
  {
   "cell_type": "markdown",
   "metadata": {},
   "source": [
    "#MULTI-Mapping ONLY"
   ]
  },
  {
   "cell_type": "code",
   "execution_count": 90,
   "metadata": {
    "collapsed": false
   },
   "outputs": [],
   "source": [
    "boolList = [x in setMMTxps for x in tn]"
   ]
  },
  {
   "cell_type": "code",
   "execution_count": 91,
   "metadata": {
    "collapsed": false
   },
   "outputs": [],
   "source": [
    "sb = b[boolList]\n",
    "sg = g[boolList]\n",
    "st = t[boolList]\n",
    "# print np.corrcoef(x, y)\n",
    "# print np.corr(x, y, method='spearman')"
   ]
  },
  {
   "cell_type": "code",
   "execution_count": 97,
   "metadata": {
    "collapsed": false
   },
   "outputs": [
    {
     "data": {
      "text/plain": [
       "[<matplotlib.lines.Line2D at 0x7f944a0cf310>]"
      ]
     },
     "execution_count": 97,
     "metadata": {},
     "output_type": "execute_result"
    },
    {
     "data": {
      "image/png": "[encoded data removed]",
      "text/plain": [
       "<matplotlib.figure.Figure at 0x7f945ecd3910>"
      ]
     },
     "metadata": {},
     "output_type": "display_data"
    }
   ],
   "source": [
    "keep = sb.median(1) < 100\n",
    "plt.plot(sb.median(1)[keep],sg.median(1)[keep], 'ro')"
   ]
  },
  {
   "cell_type": "code",
   "execution_count": 96,
   "metadata": {
    "collapsed": false
   },
   "outputs": [
    {
     "data": {
      "text/plain": [
       "[<matplotlib.lines.Line2D at 0x7f945cebe990>]"
      ]
     },
     "execution_count": 96,
     "metadata": {},
     "output_type": "execute_result"
    },
    {
     "data": {
      "image/png": "[encoded data removed]",
      "text/plain": [
       "<matplotlib.figure.Figure at 0x7f9462dfc9d0>"
      ]
     },
     "metadata": {},
     "output_type": "display_data"
    }
   ],
   "source": [
    "keep = sb.median(1) < 100\n",
    "plt.plot(sb.median(1)[keep],st.median(1)[keep], 'ro')"
   ]
  },
  {
   "cell_type": "code",
   "execution_count": 10,
   "metadata": {
    "collapsed": false
   },
   "outputs": [
    {
     "data": {
      "text/plain": [
       "<matplotlib.legend.Legend at 0x7f9451ef4450>"
      ]
     },
     "execution_count": 10,
     "metadata": {},
     "output_type": "execute_result"
    },
    {
     "data": {
      "image/png": "[encoded data removed]",
      "text/plain": [
       "<matplotlib.figure.Figure at 0x7f9451ef4390>"
      ]
     },
     "metadata": {},
     "output_type": "display_data"
    }
   ],
   "source": [
    "x = np.log10(sb.median(1).values+0.1)\n",
    "y = np.log10(sg.median(1).values+0.1)\n",
    "data = np.vstack([x, y]).T\n",
    "\n",
    "plt.hist(data, alpha=0.7, label=['boot', 'gibbs'])\n",
    "plt.legend(loc='upper right')"
   ]
  },
  {
   "cell_type": "code",
   "execution_count": 181,
   "metadata": {
    "collapsed": false
   },
   "outputs": [
    {
     "data": {
      "text/plain": [
       "[<matplotlib.lines.Line2D at 0x7f6ad23f99d0>]"
      ]
     },
     "execution_count": 181,
     "metadata": {},
     "output_type": "execute_result"
    },
    {
     "data": {
      "image/png": "[encoded data removed]",
      "text/plain": [
       "<matplotlib.figure.Figure at 0x7f6ad23f9b10>"
      ]
     },
     "metadata": {},
     "output_type": "display_data"
    }
   ],
   "source": [
    "plt.plot(x,y, 'bo')"
   ]
  },
  {
   "cell_type": "code",
   "execution_count": 169,
   "metadata": {
    "collapsed": false
   },
   "outputs": [
    {
     "data": {
      "text/plain": [
       "[<matplotlib.lines.Line2D at 0x7f6ad13f7a90>]"
      ]
     },
     "execution_count": 169,
     "metadata": {},
     "output_type": "execute_result"
    },
    {
     "data": {
      "image/png": "[encoded data removed]",
      "text/plain": [
       "<matplotlib.figure.Figure at 0x7f6ace494a10>"
      ]
     },
     "metadata": {},
     "output_type": "display_data"
    }
   ],
   "source": [
    "plt.plot(x,y, 'bo')"
   ]
  },
  {
   "cell_type": "code",
   "execution_count": 157,
   "metadata": {
    "collapsed": false
   },
   "outputs": [
    {
     "data": {
      "text/plain": [
       "[25873, 29846, 36338, 37228]"
      ]
     },
     "execution_count": 157,
     "metadata": {},
     "output_type": "execute_result"
    }
   ],
   "source": [
    "diff = sb.median(1) - sg.median(1)\n",
    "[tn.index(i) for i in sg[diff<-80].index]"
   ]
  },
  {
   "cell_type": "code",
   "execution_count": 34,
   "metadata": {
    "collapsed": false
   },
   "outputs": [],
   "source": [
    "# sg[diff<-50].index"
   ]
  },
  {
   "cell_type": "code",
   "execution_count": 158,
   "metadata": {
    "collapsed": false
   },
   "outputs": [],
   "source": [
    "tr = 29846\n",
    "# print pd.concat([sb.loc[tn[tr]].rename('boots'), sg.loc[tn[tr]].rename('gibbs')], axis=1)"
   ]
  },
  {
   "cell_type": "code",
   "execution_count": 159,
   "metadata": {
    "collapsed": false
   },
   "outputs": [
    {
     "data": {
      "text/plain": [
       "(array([ 30.,   4.,   0.,   4.,   4.,   6.,  12.,  21.,  11.,   8.]),\n",
       " array([  6.85603927e-06,   2.96026880e+01,   5.92053691e+01,\n",
       "          8.88080502e+01,   1.18410731e+02,   1.48013412e+02,\n",
       "          1.77616094e+02,   2.07218775e+02,   2.36821456e+02,\n",
       "          2.66424137e+02,   2.96026818e+02]),\n",
       " <a list of 10 Patch objects>)"
      ]
     },
     "execution_count": 159,
     "metadata": {},
     "output_type": "execute_result"
    },
    {
     "data": {
      "image/png": "[encoded data removed]",
      "text/plain": [
       "<matplotlib.figure.Figure at 0x7f6ace4bd6d0>"
      ]
     },
     "metadata": {},
     "output_type": "display_data"
    }
   ],
   "source": [
    "plt.hist(sg.loc[tn[tr]].values)\n",
    "# plt.hist(sb.loc[tn[tr]].values)"
   ]
  },
  {
   "cell_type": "code",
   "execution_count": 57,
   "metadata": {
    "collapsed": true
   },
   "outputs": [],
   "source": [
    "#Read Alphas"
   ]
  },
  {
   "cell_type": "code",
   "execution_count": 145,
   "metadata": {
    "collapsed": false
   },
   "outputs": [],
   "source": [
    "alphasFile = \"/mnt/scratch7/avi/equi-libra/salmonData/test/alphas.txt\"\n",
    "with open(alphasFile) as f:\n",
    "    alphas = pd.read_table(f, header=None)"
   ]
  },
  {
   "cell_type": "code",
   "execution_count": 146,
   "metadata": {
    "collapsed": false
   },
   "outputs": [
    {
     "data": {
      "text/plain": [
       "0     0\n",
       "1     0\n",
       "2     0\n",
       "3     0\n",
       "4     0\n",
       "5     0\n",
       "6     0\n",
       "7     0\n",
       "8     0\n",
       "9     0\n",
       "10    0\n",
       "11    0\n",
       "12    0\n",
       "13    0\n",
       "14    0\n",
       "15    0\n",
       "16    0\n",
       "17    0\n",
       "18    0\n",
       "19    0\n",
       "20    0\n",
       "21    0\n",
       "22    0\n",
       "23    0\n",
       "24    0\n",
       "25    0\n",
       "26    0\n",
       "27    0\n",
       "28    0\n",
       "29    0\n",
       "30    0\n",
       "31    0\n",
       "32    0\n",
       "33    0\n",
       "34    0\n",
       "35    0\n",
       "36    0\n",
       "37    0\n",
       "38    0\n",
       "39    0\n",
       "40    0\n",
       "41    0\n",
       "42    0\n",
       "43    0\n",
       "44    0\n",
       "45    0\n",
       "46    0\n",
       "47    0\n",
       "48    0\n",
       "49    0\n",
       "Name: 29846, dtype: int64"
      ]
     },
     "execution_count": 146,
     "metadata": {},
     "output_type": "execute_result"
    }
   ],
   "source": [
    "alphas[29846]"
   ]
  },
  {
   "cell_type": "code",
   "execution_count": 62,
   "metadata": {
    "collapsed": false
   },
   "outputs": [],
   "source": [
    "cluster = [x for x in eq if 29846 in x ]"
   ]
  },
  {
   "cell_type": "code",
   "execution_count": 63,
   "metadata": {
    "collapsed": false
   },
   "outputs": [
    {
     "data": {
      "text/plain": [
       "[(29841, 29842, 29843, 29844, 29845, 29846),\n",
       " (29841, 29842, 29843, 29844, 29846)]"
      ]
     },
     "execution_count": 63,
     "metadata": {},
     "output_type": "execute_result"
    }
   ],
   "source": [
    "cluster"
   ]
  },
  {
   "cell_type": "code",
   "execution_count": 84,
   "metadata": {
    "collapsed": false
   },
   "outputs": [
    {
     "data": {
      "text/plain": [
       "[(29841, 29842, 29843, 29844, 29845, 29846),\n",
       " (29841, 29842, 29843, 29845),\n",
       " (29841, 29842, 29844),\n",
       " (29841, 29842),\n",
       " (29841, 29842, 29843, 29844, 29846),\n",
       " (29841, 29842, 29843),\n",
       " (29841, 29842, 29843, 29844),\n",
       " (29841,),\n",
       " (29841, 29842, 29843, 29844, 29845),\n",
       " (29841, 29842, 29844, 29847),\n",
       " (29841, 29842, 29843, 29844, 29845, 29847)]"
      ]
     },
     "execution_count": 84,
     "metadata": {},
     "output_type": "execute_result"
    }
   ],
   "source": [
    "tata = [x for x in eq if 29841 in x ]\n",
    "tata"
   ]
  },
  {
   "cell_type": "code",
   "execution_count": 83,
   "metadata": {
    "collapsed": false
   },
   "outputs": [
    {
     "data": {
      "text/plain": [
       "{29841, 29842, 29843, 29844, 29845, 29846, 29847}"
      ]
     },
     "execution_count": 83,
     "metadata": {},
     "output_type": "execute_result"
    }
   ],
   "source": [
    "tete = set([])\n",
    "toto = [tete.add(x) for le in tata for x in le]\n",
    "tete"
   ]
  },
  {
   "cell_type": "code",
   "execution_count": null,
   "metadata": {
    "collapsed": false
   },
   "outputs": [],
   "source": []
  },
  {
   "cell_type": "code",
   "execution_count": 117,
   "metadata": {
    "collapsed": false
   },
   "outputs": [],
   "source": [
    "classSet = set([])\n",
    "lll = [classSet.add(x) for x in eq for tid in [29842, 29843, 29844, 29846] if tid in x ]"
   ]
  },
  {
   "cell_type": "code",
   "execution_count": 121,
   "metadata": {
    "collapsed": false
   },
   "outputs": [
    {
     "data": {
      "text/plain": [
       "{(29841, 29842),\n",
       " (29841, 29842, 29843),\n",
       " (29841, 29842, 29843, 29844),\n",
       " (29841, 29842, 29843, 29844, 29845),\n",
       " (29841, 29842, 29843, 29844, 29845, 29846),\n",
       " (29841, 29842, 29843, 29844, 29845, 29847),\n",
       " (29841, 29842, 29843, 29844, 29846),\n",
       " (29841, 29842, 29843, 29845),\n",
       " (29841, 29842, 29844),\n",
       " (29841, 29842, 29844, 29847),\n",
       " (29842,),\n",
       " (29843,),\n",
       " (29844,)}"
      ]
     },
     "execution_count": 121,
     "metadata": {},
     "output_type": "execute_result"
    }
   ],
   "source": [
    "classSet"
   ]
  },
  {
   "cell_type": "code",
   "execution_count": 116,
   "metadata": {
    "collapsed": false
   },
   "outputs": [],
   "source": [
    "# pd.concat([alphas[x] for x in range(29841, 29848)], axis=1)"
   ]
  },
  {
   "cell_type": "code",
   "execution_count": 106,
   "metadata": {
    "collapsed": false
   },
   "outputs": [
    {
     "data": {
      "text/plain": [
       "29842   -271\n",
       "29843    231\n",
       "29844   -265\n",
       "29846    307\n",
       "dtype: int64"
      ]
     },
     "execution_count": 106,
     "metadata": {},
     "output_type": "execute_result"
    }
   ],
   "source": [
    "tata.loc[49]- tata.loc[0]"
   ]
  },
  {
   "cell_type": "code",
   "execution_count": 129,
   "metadata": {
    "collapsed": false
   },
   "outputs": [
    {
     "data": {
      "text/html": [
       "<div>\n",
       "<table border=\"1\" class=\"dataframe\">\n",
       "  <thead>\n",
       "    <tr style=\"text-align: right;\">\n",
       "      <th></th>\n",
       "      <th>0</th>\n",
       "      <th>49</th>\n",
       "    </tr>\n",
       "  </thead>\n",
       "  <tbody>\n",
       "    <tr>\n",
       "      <th>29842</th>\n",
       "      <td>606</td>\n",
       "      <td>335</td>\n",
       "    </tr>\n",
       "    <tr>\n",
       "      <th>29843</th>\n",
       "      <td>155</td>\n",
       "      <td>386</td>\n",
       "    </tr>\n",
       "    <tr>\n",
       "      <th>29844</th>\n",
       "      <td>908</td>\n",
       "      <td>643</td>\n",
       "    </tr>\n",
       "    <tr>\n",
       "      <th>29846</th>\n",
       "      <td>0</td>\n",
       "      <td>307</td>\n",
       "    </tr>\n",
       "  </tbody>\n",
       "</table>\n",
       "</div>"
      ],
      "text/plain": [
       "        0    49\n",
       "29842  606  335\n",
       "29843  155  386\n",
       "29844  908  643\n",
       "29846    0  307"
      ]
     },
     "execution_count": 129,
     "metadata": {},
     "output_type": "execute_result"
    }
   ],
   "source": [
    "pd.concat([tata.loc[x] for x in [0,49]], axis=1)"
   ]
  },
  {
   "cell_type": "code",
   "execution_count": 126,
   "metadata": {
    "collapsed": false
   },
   "outputs": [
    {
     "data": {
      "text/plain": [
       "[((29841, 29842), 142),\n",
       " ((29841, 29842, 29843, 29844, 29845, 29847), 1),\n",
       " ((29841, 29842, 29843, 29844), 123),\n",
       " ((29841, 29842, 29844), 282),\n",
       " ((29843,), 5),\n",
       " ((29841, 29842, 29844, 29847), 5),\n",
       " ((29841, 29842, 29843, 29844, 29846), 829),\n",
       " ((29842,), 2),\n",
       " ((29841, 29842, 29843, 29844, 29845), 5),\n",
       " ((29841, 29842, 29843), 202),\n",
       " ((29841, 29842, 29843, 29845), 38),\n",
       " ((29841, 29842, 29843, 29844, 29845, 29846), 26),\n",
       " ((29844,), 12)]"
      ]
     },
     "execution_count": 126,
     "metadata": {},
     "output_type": "execute_result"
    }
   ],
   "source": [
    "[(x, eq[x]) for x in  classSet]"
   ]
  },
  {
   "cell_type": "code",
   "execution_count": 136,
   "metadata": {
    "collapsed": false
   },
   "outputs": [
    {
     "data": {
      "text/plain": [
       "'ENST00000377978.3|ENSG00000112695.11|OTTHUMG00000015049.8|OTTHUMT00000365878.4|COX7A2-007|COX7A2|366|UTR5:1-56|CDS:57-366|'"
      ]
     },
     "execution_count": 136,
     "metadata": {},
     "output_type": "execute_result"
    }
   ],
   "source": [
    "tn[29847]"
   ]
  },
  {
   "cell_type": "code",
   "execution_count": 82,
   "metadata": {
    "collapsed": false
   },
   "outputs": [
    {
     "name": "stdout",
     "output_type": "stream",
     "text": [
      "Once deleted, variables cannot be recovered. Proceed (y/[n])? y\n"
     ]
    }
   ],
   "source": [
    "%reset"
   ]
  },
  {
   "cell_type": "code",
   "execution_count": null,
   "metadata": {
    "collapsed": true
   },
   "outputs": [],
   "source": []
  }
 ],
 "metadata": {
  "kernelspec": {
   "display_name": "Python 2",
   "language": "python",
   "name": "python2"
  },
  "language_info": {
   "codemirror_mode": {
    "name": "ipython",
    "version": 2
   },
   "file_extension": ".py",
   "mimetype": "text/x-python",
   "name": "python",
   "nbconvert_exporter": "python",
   "pygments_lexer": "ipython2",
   "version": "2.7.12"
  }
 },
 "nbformat": 4,
 "nbformat_minor": 1
}
